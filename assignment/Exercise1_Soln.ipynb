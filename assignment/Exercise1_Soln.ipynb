{
 "cells": [
  {
   "cell_type": "markdown",
   "metadata": {},
   "source": [
    "# TASK1\n",
    "\n",
    "**1. Install Jupyter notebook and run the first program and share the screenshot of the output.**\n",
    "\n",
    "![Image](Capture.PNG \"Ouput Of First Program\")\n"
   ]
  },
  {
   "cell_type": "markdown",
   "metadata": {},
   "source": [
    "**2. Write a program which will find all such numbers which are divisible by 7 but are not a multiple\n",
    "of 5, between 2000 and 3200 (both included). The numbers obtained should be printed in a\n",
    "comma-separated sequence on a single line.**"
   ]
  },
  {
   "cell_type": "code",
   "execution_count": 263,
   "metadata": {},
   "outputs": [
    {
     "name": "stdout",
     "output_type": "stream",
     "text": [
      "2002,2009,2016,2023,2037,2044,2051,2058,2072,2079,2086,2093,2107,2114,2121,2128,2142,2149,2156,2163,2177,2184,2191,2198,2212,2219,2226,2233,2247,2254,2261,2268,2282,2289,2296,2303,2317,2324,2331,2338,2352,2359,2366,2373,2387,2394,2401,2408,2422,2429,2436,2443,2457,2464,2471,2478,2492,2499,2506,2513,2527,2534,2541,2548,2562,2569,2576,2583,2597,2604,2611,2618,2632,2639,2646,2653,2667,2674,2681,2688,2702,2709,2716,2723,2737,2744,2751,2758,2772,2779,2786,2793,2807,2814,2821,2828,2842,2849,2856,2863,2877,2884,2891,2898,2912,2919,2926,2933,2947,2954,2961,2968,2982,2989,2996,3003,3017,3024,3031,3038,3052,3059,3066,3073,3087,3094,3101,3108,3122,3129,3136,3143,3157,3164,3171,3178,3192,3199\n"
     ]
    }
   ],
   "source": [
    "#Find the first multiple of 7 to iterate in steps of 7 instead of every element between 2000 ans 3200\n",
    "firstMultiple = 2000             \n",
    "for i in range(2000,2000+8):\n",
    "    if i%7 == 0 :\n",
    "        firstMultiple = i\n",
    "        break;\n",
    "\n",
    "sep1=''\n",
    "for i in range(firstMultiple,3201,7):\n",
    "    if i%5 != 0 :\n",
    "        print(sep1,i,end='',sep='')\n",
    "        sep1=','\n",
    "print()  "
   ]
  },
  {
   "cell_type": "markdown",
   "metadata": {},
   "source": [
    "**3.Write a Python program to accept the user's first and last name and then getting them printed in\n",
    "the the reverse order with a space between first name and last name.**\n"
   ]
  },
  {
   "cell_type": "code",
   "execution_count": 120,
   "metadata": {},
   "outputs": [
    {
     "name": "stdout",
     "output_type": "stream",
     "text": [
      "Enter your first name: sree\n",
      "Enter your last name: ranjini\n",
      "inijnar eers\n"
     ]
    }
   ],
   "source": [
    "firstname = input(\"Enter your first name: \")\n",
    "lastname = input(\"Enter your last name: \")\n",
    "print(lastname[::-1],firstname[::-1])"
   ]
  },
  {
   "cell_type": "markdown",
   "metadata": {},
   "source": [
    "**4.Write a Python program to find the volume of a sphere with diameter 12 cm.\n",
    "Formula: V=4/3 * π * r <sup>3</sup>**\n"
   ]
  },
  {
   "cell_type": "code",
   "execution_count": 57,
   "metadata": {},
   "outputs": [
    {
     "name": "stdout",
     "output_type": "stream",
     "text": [
      "Volume of sphere with diameter 12 cm = 904.78 cu.cm\n"
     ]
    }
   ],
   "source": [
    "radius=12/2\n",
    "pi=3.141592653589793\n",
    "volume = (4 * pi * radius**3)/3\n",
    "print(\"Volume of sphere with diameter 12 cm = {0:.2f} cu.cm\".format(volume))"
   ]
  },
  {
   "cell_type": "markdown",
   "metadata": {},
   "source": [
    "# TASK2"
   ]
  },
  {
   "cell_type": "markdown",
   "metadata": {},
   "source": [
    "**1.Write a program which accepts a sequence of comma-separated numbers from console and\n",
    "generate a list.**"
   ]
  },
  {
   "cell_type": "code",
   "execution_count": 261,
   "metadata": {},
   "outputs": [
    {
     "name": "stdout",
     "output_type": "stream",
     "text": [
      "Enter comma seperated numbers:1,8,7\n"
     ]
    },
    {
     "data": {
      "text/plain": [
       "[1, 8, 7]"
      ]
     },
     "execution_count": 261,
     "metadata": {},
     "output_type": "execute_result"
    }
   ],
   "source": [
    "numbers = input(\"Enter comma seperated numbers:\")\n",
    "list1 = [int(i) for i in numbers.split(',')]\n",
    "list1"
   ]
  },
  {
   "cell_type": "markdown",
   "metadata": {},
   "source": [
    "__2.Create the below pattern using nested for loop in Python.__\n",
    "\n",
    "\\*\n",
    "<br>\n",
    "\\* \\*\n",
    "<br>\n",
    "\\* \\* \\*\n",
    "<br>\n",
    "\\* \\* \\* \\*\n",
    "<br>\n",
    "\\* \\* \\* \\* \\*\n",
    "<br>\n",
    "\\* \\* \\* \\*\n",
    "<br>\n",
    "\\* \\* \\* \n",
    "<br>\n",
    "\\* \\*\n",
    "<br>\n",
    "\\*"
   ]
  },
  {
   "cell_type": "code",
   "execution_count": 91,
   "metadata": {},
   "outputs": [
    {
     "name": "stdout",
     "output_type": "stream",
     "text": [
      "* \n",
      "* * \n",
      "* * * \n",
      "* * * * \n",
      "* * * * * \n",
      "* * * * \n",
      "* * * \n",
      "* * \n",
      "* \n"
     ]
    }
   ],
   "source": [
    "maxdots=5\n",
    "for i in range(1,maxdots):\n",
    "    print('* '*i)\n",
    "for i in range(maxdots,0,-1):\n",
    "    print('* '*i)    \n"
   ]
  },
  {
   "cell_type": "markdown",
   "metadata": {},
   "source": [
    "__3.Write a Python program to reverse a word after accepting the input from the user.<br>Sample Output:<br>Input word: AcadGild <br>Output: dilGdacA__"
   ]
  },
  {
   "cell_type": "code",
   "execution_count": 110,
   "metadata": {},
   "outputs": [
    {
     "name": "stdout",
     "output_type": "stream",
     "text": [
      "Input word : AcadGild\n",
      "Output: dliGdacA\n"
     ]
    }
   ],
   "source": [
    "newword = input(\"Input word : \")\n",
    "print('Output:',newword[::-1])"
   ]
  },
  {
   "cell_type": "markdown",
   "metadata": {},
   "source": [
    "**4.Write a Python Program to print the given string in the format specified in the sample output.<br>\n",
    "<br>\n",
    "&emsp;&emsp;WE, THE PEOPLE OF INDIA, having solemnly resolved to constitute India into a<br>\n",
    "&emsp;&emsp;SOVEREIGN, SOCIALIST, SECULAR, DEMOCRATIC REPUBLIC and to secure to all<br>\n",
    "&emsp;&emsp;its citizens<br>\n",
    "<br>\n",
    "Sample Output:<br>\n",
    "<br>\n",
    "WE, THE PEOPLE OF INDIA,<br>\n",
    "    &emsp;&emsp;&emsp;having solemnly resolved to constitute India into a SOVEREIGN, !<br>\n",
    "        &emsp;&emsp;&emsp;&emsp;&emsp;&emsp;SOCIALIST, SECULAR, DEMOCRATIC REPUBLIC<br>\n",
    "        &emsp;&emsp;&emsp;&emsp;&emsp;&emsp;&ensp;and to secure to all its citizens**"
   ]
  },
  {
   "cell_type": "code",
   "execution_count": 262,
   "metadata": {},
   "outputs": [
    {
     "name": "stdout",
     "output_type": "stream",
     "text": [
      "\n",
      "WE, THE PEOPLE OF INDIA,\n",
      "     having solemnly resolved to constitute India into a SOVEREIGN,!\n",
      " \t   SOCIALIST, SECULAR, DEMOCRATIC REPUBLIC \n",
      "\t   and to secure to all its citizens\n",
      "\n"
     ]
    }
   ],
   "source": [
    "str1=\"\"\"\n",
    "WE, THE PEOPLE OF INDIA,\\n\\x20\\x20\\x20\\x20\\x20having solemnly resolved to constitute India into a \\\n",
    "SOVEREIGN,!\\n \\t\\x20\\x20\\x20SOCIALIST, SECULAR, DEMOCRATIC REPUBLIC \\n\\t\\x20\\x20\\x20and to secure to all \\\n",
    "its citizens\n",
    "\"\"\"\n",
    "print(str1)"
   ]
  }
 ],
 "metadata": {
  "kernelspec": {
   "display_name": "Python 3",
   "language": "python",
   "name": "python3"
  },
  "language_info": {
   "codemirror_mode": {
    "name": "ipython",
    "version": 3
   },
   "file_extension": ".py",
   "mimetype": "text/x-python",
   "name": "python",
   "nbconvert_exporter": "python",
   "pygments_lexer": "ipython3",
   "version": "3.7.4"
  },
  "toc": {
   "base_numbering": 1,
   "nav_menu": {},
   "number_sections": true,
   "sideBar": true,
   "skip_h1_title": false,
   "title_cell": "Table of Contents",
   "title_sidebar": "Contents",
   "toc_cell": false,
   "toc_position": {
    "height": "calc(100% - 180px)",
    "left": "10px",
    "top": "150px",
    "width": "165px"
   },
   "toc_section_display": true,
   "toc_window_display": false
  },
  "varInspector": {
   "cols": {
    "lenName": 16,
    "lenType": 16,
    "lenVar": 40
   },
   "kernels_config": {
    "python": {
     "delete_cmd_postfix": "",
     "delete_cmd_prefix": "del ",
     "library": "var_list.py",
     "varRefreshCmd": "print(var_dic_list())"
    },
    "r": {
     "delete_cmd_postfix": ") ",
     "delete_cmd_prefix": "rm(",
     "library": "var_list.r",
     "varRefreshCmd": "cat(var_dic_list()) "
    }
   },
   "types_to_exclude": [
    "module",
    "function",
    "builtin_function_or_method",
    "instance",
    "_Feature"
   ],
   "window_display": false
  }
 },
 "nbformat": 4,
 "nbformat_minor": 4
}
