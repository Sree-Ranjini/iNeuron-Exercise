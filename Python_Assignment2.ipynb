{
 "cells": [
  {
   "cell_type": "markdown",
   "metadata": {},
   "source": [
    "# Task 1"
   ]
  },
  {
   "cell_type": "markdown",
   "metadata": {},
   "source": [
    "## 1.1 Write a Python Program to implement your own myreduce() function which works exactly like Python's built-in function reduce()"
   ]
  },
  {
   "cell_type": "code",
   "execution_count": 66,
   "metadata": {},
   "outputs": [
    {
     "name": "stdout",
     "output_type": "stream",
     "text": [
      "reduce(function, sequence[, initial]) -> value\n",
      "\n",
      "Apply a function of two arguments cumulatively to the items of a sequence,\n",
      "from left to right, so as to reduce the sequence to a single value.\n",
      "For example, reduce(lambda x, y: x+y, [1, 2, 3, 4, 5]) calculates\n",
      "((((1+2)+3)+4)+5).  If initial is present, it is placed before the items\n",
      "of the sequence in the calculation, and serves as a default when the\n",
      "sequence is empty. \n",
      "\n",
      "6\n",
      "11\n",
      "abcdefhi\n",
      "toabcdefhi\n"
     ]
    }
   ],
   "source": [
    "from functools import reduce\n",
    "print(reduce.__doc__, \"\\n\")\n",
    "\n",
    "def myreduce(function , sequence, initial=None):\n",
    "    it = iter(sequence)\n",
    "    if initial is None:\n",
    "        val = next(it)\n",
    "    else:\n",
    "        val = initial\n",
    "    for x in it :\n",
    "        val = function(val,x)\n",
    "    return val\n",
    "\n",
    "f = lambda x,y: x+y \n",
    "l = [1,2,3]\n",
    "print(myreduce(f, l))            \n",
    "print(myreduce(f, l,5))    \n",
    "\n",
    "slst =['abc','def','hi']\n",
    "print(myreduce(f, slst))  \n",
    "print(myreduce(f, slst,'to'))  "
   ]
  },
  {
   "cell_type": "markdown",
   "metadata": {},
   "source": [
    "## 1.2 Write a Python program to implement your own myfilter() function which works exactly like Python's built-in function filter()"
   ]
  },
  {
   "cell_type": "code",
   "execution_count": 85,
   "metadata": {},
   "outputs": [
    {
     "name": "stdout",
     "output_type": "stream",
     "text": [
      "filter(function or None, iterable) --> filter object\n",
      "\n",
      "Return an iterator yielding those items of iterable for which function(item)\n",
      "is true. If function is None, return the items that are true. \n",
      "\n",
      "[2, 4, 6]\n",
      "[3, 4, 5, 6]\n",
      "[1, 2, 3, 4, 5, 6, True]\n",
      "['E', 'e', 'a', 'A', 'U', 'i']\n"
     ]
    }
   ],
   "source": [
    "print(filter.__doc__,\"\\n\")\n",
    "\n",
    "def myfilter(fnc,seq):\n",
    "    for i in seq :\n",
    "        if fnc is None :\n",
    "            if i :\n",
    "                yield i\n",
    "        else : \n",
    "            if fnc(i):         \n",
    "                yield i\n",
    "   \n",
    "l = [1,2,3,4,5,6]\n",
    "f = lambda x: x%2==0   #Check if even\n",
    "print(list(myfilter(f, l)))\n",
    "\n",
    "f = lambda x: x>2  #Check if number > 2\n",
    "print(list(myfilter(f, l)))\n",
    "\n",
    "l = [1,2,3,4,5,6,False,True,0]\n",
    "f = None\n",
    "print(list(myfilter(f, l)))\n",
    "\n",
    "def isVowel(s):\n",
    "    if s in ['a','e','i','o','u','A','E','I','O','U']:\n",
    "        return True\n",
    "    else:\n",
    "        return False\n",
    "strl = \"TrEe has A frUit 12.\"    \n",
    "print(list(myfilter(isVowel, strl)))\n"
   ]
  },
  {
   "cell_type": "markdown",
   "metadata": {},
   "source": [
    "## 2. Implement List comprehensions to produce the following lists.\n",
    "Write List comprehensions to produce the following Lists <br>\n",
    "`['A', 'C', 'A', 'D', 'G', 'I', ’L’, ‘ D’]`<br>\n",
    "`['x', 'xx', 'xxx', 'xxxx', 'y', 'yy', 'yyy', 'yyyy', 'z', 'zz', 'zzz', 'zzzz']`<br>\n",
    "`['x', 'y', 'z', 'xx', 'yy', 'zz', 'xx', 'yy', 'zz', 'xxxx', 'yyyy', 'zzzz']`<br>\n",
    "`[[2], [3], [4], [3], [4], [5], [4], [5], [6]]`<br>\n",
    "`[[2, 3, 4, 5], [3, 4, 5, 6], [4, 5, 6, 7], [5, 6, 7, 8]]`<br>\n",
    "`[(1, 1), (2, 1), (3, 1), (1, 2), (2, 2), (3, 2), (1, 3), (2, 3), (3, 3)]`<br>"
   ]
  },
  {
   "cell_type": "code",
   "execution_count": 26,
   "metadata": {},
   "outputs": [
    {
     "data": {
      "text/plain": [
       "['A', 'C', 'A', 'D', 'G', 'I', 'L', 'D']"
      ]
     },
     "execution_count": 26,
     "metadata": {},
     "output_type": "execute_result"
    }
   ],
   "source": [
    "[s for s in \"ACADGILD\"]"
   ]
  },
  {
   "cell_type": "code",
   "execution_count": 27,
   "metadata": {
    "scrolled": true
   },
   "outputs": [
    {
     "data": {
      "text/plain": [
       "['x', 'xx', 'xxx', 'xxxx', 'y', 'yy', 'yyy', 'yyyy', 'z', 'zz', 'zzz', 'zzzz']"
      ]
     },
     "execution_count": 27,
     "metadata": {},
     "output_type": "execute_result"
    }
   ],
   "source": [
    "[t*x for t in ('x','y','z') for x in range(1,5) ]    "
   ]
  },
  {
   "cell_type": "code",
   "execution_count": 28,
   "metadata": {
    "scrolled": false
   },
   "outputs": [
    {
     "data": {
      "text/plain": [
       "['x', 'y', 'z', 'xx', 'yy', 'zz', 'xx', 'yy', 'zz', 'xxxx', 'yyyy', 'zzzz']"
      ]
     },
     "execution_count": 28,
     "metadata": {},
     "output_type": "execute_result"
    }
   ],
   "source": [
    "[ t*i for i in (1,2,2,4) for t in ('x','y','z') ] "
   ]
  },
  {
   "cell_type": "code",
   "execution_count": 29,
   "metadata": {},
   "outputs": [
    {
     "data": {
      "text/plain": [
       "[[2], [3], [4], [3], [4], [5], [4], [5], [6]]"
      ]
     },
     "execution_count": 29,
     "metadata": {},
     "output_type": "execute_result"
    }
   ],
   "source": [
    "[ [t+i] for i in range(3) for t in (2,3,4)]"
   ]
  },
  {
   "cell_type": "code",
   "execution_count": 30,
   "metadata": {},
   "outputs": [
    {
     "data": {
      "text/plain": [
       "[[2, 3, 4, 5], [3, 4, 5, 6], [4, 5, 6, 7], [5, 6, 7, 8]]"
      ]
     },
     "execution_count": 30,
     "metadata": {},
     "output_type": "execute_result"
    }
   ],
   "source": [
    "[ [t+i, t+i+1 , t+i+2 , t+i+3] for i in range(1) for t in (2,3,4,5)]"
   ]
  },
  {
   "cell_type": "code",
   "execution_count": 31,
   "metadata": {},
   "outputs": [
    {
     "data": {
      "text/plain": [
       "[(1, 1), (2, 1), (3, 1), (1, 2), (2, 2), (3, 2), (1, 3), (2, 3), (3, 3)]"
      ]
     },
     "execution_count": 31,
     "metadata": {},
     "output_type": "execute_result"
    }
   ],
   "source": [
    "[(t,i+1) for i in range(3) for t in (1,2,3)]"
   ]
  },
  {
   "cell_type": "markdown",
   "metadata": {},
   "source": [
    "## 3. Implement a function longestWord() that takes a list of words and returns the longest one."
   ]
  },
  {
   "cell_type": "code",
   "execution_count": 32,
   "metadata": {},
   "outputs": [
    {
     "name": "stdout",
     "output_type": "stream",
     "text": [
      "shells\n"
     ]
    }
   ],
   "source": [
    "def longestWord(words):\n",
    "    cnt=0\n",
    "    longestword=\"\"\n",
    "    for w in words:\n",
    "        if len(w)>cnt:\n",
    "            cnt=len(w)\n",
    "            longestword=w\n",
    "    return longestword            \n",
    "\n",
    "listofWords=[\"She\" ,\"sells\", \"sea\", \"shells\" ,\"on\", \"the\", \"sea\", \"shore\"]\n",
    "longest = longestWord(listofWords)\n",
    "print(longest)\n"
   ]
  },
  {
   "cell_type": "markdown",
   "metadata": {},
   "source": [
    "# Task 2 "
   ]
  },
  {
   "cell_type": "markdown",
   "metadata": {},
   "source": [
    "## 1.1 Write a Python Program(with class concepts) to find the area of the triangle using the below formula.\n",
    "\n",
    "`area = (s*(s-a)*(s-b)*(s-c)) * ** 0.5` <br>\n",
    "\n",
    "Function to take the length of the sides of triangle from user should be defined in the parent <br>\n",
    "class and function to calculate the area should be defined in subclass. <br>"
   ]
  },
  {
   "cell_type": "code",
   "execution_count": 59,
   "metadata": {},
   "outputs": [
    {
     "name": "stdout",
     "output_type": "stream",
     "text": [
      "Enter Length of Side 1 : 2\n",
      "Enter Length of Side 2 : 3\n",
      "Enter Length of Side 3 : 4\n",
      "Area of Triangle of sides 2.0,3.0,4.0 is 2.9047\n"
     ]
    }
   ],
   "source": [
    "class Polygon:\n",
    "    def __init__(self , noOfSides):\n",
    "        self.n = noOfSides\n",
    "        self.sideslength = []\n",
    "        for i in range(noOfSides):\n",
    "            self.sideslength.append(float(input(\"Enter Length of Side {} : \".format(i+1))))\n",
    "        \n",
    "class Triangle(Polygon):\n",
    "    def __init__(self):\n",
    "        Polygon.__init__(self,3)\n",
    "\n",
    "    def CalculateArea(self):\n",
    "        a,b,c = self.sideslength\n",
    "        s = (a+b+c)/2             #semiperimeter \n",
    "        self.area = (s*(s-a)*(s-b)*(s-c))**0.5\n",
    "        print('Area of Triangle of sides {},{},{} is {:.4f}'.format(a,b,c,self.area))\n",
    "\n",
    "t = Triangle()  \n",
    "t.CalculateArea()"
   ]
  },
  {
   "cell_type": "markdown",
   "metadata": {},
   "source": [
    "## 1.2 Write a function filter_long_words() that takes a list of words and an integer n and returns the list of words that are longer than n."
   ]
  },
  {
   "cell_type": "code",
   "execution_count": 33,
   "metadata": {},
   "outputs": [
    {
     "name": "stdout",
     "output_type": "stream",
     "text": [
      "['sells', 'shells', 'shore']\n"
     ]
    }
   ],
   "source": [
    "def filter_long_words(words,n):\n",
    "    longwords=[w for w in words if len(w)>n]\n",
    "    return longwords\n",
    "\n",
    "listofWords=[\"She\" ,\"sells\", \"sea\", \"shells\" ,\"on\", \"the\", \"sea\", \"shore\"]\n",
    "longwords = filter_long_words(listofWords,3)\n",
    "print(longwords)"
   ]
  },
  {
   "cell_type": "markdown",
   "metadata": {},
   "source": [
    "## 2.1 Write a Python program using function concept that maps list of words into a list of integers representing the lengths of the corresponding words .\n",
    "Hint: If a list [ ab,cde,erty] is passed on to the python function output should come as [2,3,4]\n",
    "Here 2,3 and 4 are the lengths of the words in the list."
   ]
  },
  {
   "cell_type": "code",
   "execution_count": 34,
   "metadata": {},
   "outputs": [
    {
     "name": "stdout",
     "output_type": "stream",
     "text": [
      "[3, 5, 3, 6, 2, 3, 3, 5]\n"
     ]
    }
   ],
   "source": [
    "def word_length(words):\n",
    "    wordlength=[len(w) for w in words]\n",
    "    return wordlength\n",
    "\n",
    "listofWords=[\"She\" ,\"sells\", \"sea\", \"shells\" ,\"on\", \"the\", \"sea\", \"shore\"]\n",
    "wordLength = word_length(listofWords)\n",
    "print(wordLength)   "
   ]
  },
  {
   "cell_type": "markdown",
   "metadata": {},
   "source": [
    "## 2.2 Write a Python function which takes a character (i.e. a string of length 1) and returns True if it is a vowel, False otherwise."
   ]
  },
  {
   "cell_type": "code",
   "execution_count": 35,
   "metadata": {},
   "outputs": [
    {
     "name": "stdout",
     "output_type": "stream",
     "text": [
      "True\n",
      "False\n",
      "True\n",
      "True\n",
      "False\n"
     ]
    }
   ],
   "source": [
    "def isVowel(str):\n",
    "    return True if (len(str)==1) and str in ('a','e','i','o','u','A','E','I','O','U') else False\n",
    "   \n",
    "print(isVowel('a'))\n",
    "print(isVowel('ab'))\n",
    "print(isVowel('A'))\n",
    "print(isVowel('e'))\n",
    "print(isVowel('d'))"
   ]
  }
 ],
 "metadata": {
  "kernelspec": {
   "display_name": "Python 3",
   "language": "python",
   "name": "python3"
  },
  "toc": {
   "base_numbering": 1,
   "nav_menu": {},
   "number_sections": false,
   "sideBar": true,
   "skip_h1_title": false,
   "title_cell": "Table of Contents",
   "title_sidebar": "Contents",
   "toc_cell": false,
   "toc_position": {
    "height": "calc(100% - 180px)",
    "left": "10px",
    "top": "150px",
    "width": "165px"
   },
   "toc_section_display": true,
   "toc_window_display": true
  },
  "varInspector": {
   "cols": {
    "lenName": 16,
    "lenType": 16,
    "lenVar": 40
   },
   "kernels_config": {
    "python": {
     "delete_cmd_postfix": "",
     "delete_cmd_prefix": "del ",
     "library": "var_list.py",
     "varRefreshCmd": "print(var_dic_list())"
    },
    "r": {
     "delete_cmd_postfix": ") ",
     "delete_cmd_prefix": "rm(",
     "library": "var_list.r",
     "varRefreshCmd": "cat(var_dic_list()) "
    }
   },
   "types_to_exclude": [
    "module",
    "function",
    "builtin_function_or_method",
    "instance",
    "_Feature"
   ],
   "window_display": false
  }
 },
 "nbformat": 4,
 "nbformat_minor": 4
}
