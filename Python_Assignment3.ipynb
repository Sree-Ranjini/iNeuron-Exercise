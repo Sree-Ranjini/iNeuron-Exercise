{
 "cells": [
  {
   "cell_type": "markdown",
   "metadata": {},
   "source": [
    "# Task 1 "
   ]
  },
  {
   "cell_type": "markdown",
   "metadata": {},
   "source": [
    "## 1. Write a function to compute 5/0 and use try/except to catch the exceptions."
   ]
  },
  {
   "cell_type": "code",
   "execution_count": 122,
   "metadata": {},
   "outputs": [
    {
     "name": "stdout",
     "output_type": "stream",
     "text": [
      "Error : division by zero\n"
     ]
    }
   ],
   "source": [
    "try:\n",
    "    c = 5/0\n",
    "except Exception as e:\n",
    "    print(\"Error : \" + str(e))\n",
    "    "
   ]
  },
  {
   "cell_type": "markdown",
   "metadata": {},
   "source": [
    "## 2. Implement a Python program to generate all sentences \n",
    "\n",
    "where subject is in [\"Americans\",\"Indians\"] and <br>\n",
    "verb is in [\"Play\", \"watch\"] and the <br>\n",
    "object is in [\"Baseball\",\"cricket\"].<br>\n",
    "\n",
    "Hint: Subject,Verb and Object should be declared in the program as shown below.<br>\n",
    "subjects=[\"Americans\",\"Indians\"]<br>\n",
    "verbs=[\"play\",\"watch\"]<br>\n",
    "objects=[\"Baseball\",\"Cricket\"]<br>\n",
    "\n",
    "Output should come as below:<br>\n",
    "Americans play Baseball.<br>\n",
    "Americans play Cricket.<br>\n",
    "Americans watch Baseball.<br>\n",
    "Americans watch Cricket.<br>\n",
    "Indians play Baseball.<br>\n",
    "Indians play Cricket.<br>\n",
    "Indians watch Baseball.<br>\n",
    "Indians watch Cricket.<br>"
   ]
  },
  {
   "cell_type": "code",
   "execution_count": 123,
   "metadata": {
    "scrolled": true
   },
   "outputs": [
    {
     "name": "stdout",
     "output_type": "stream",
     "text": [
      "Americans play Baseball.\n",
      "Americans play Cricket.\n",
      "Americans watch Baseball.\n",
      "Americans watch Cricket.\n",
      "Indians play Baseball.\n",
      "Indians play Cricket.\n",
      "Indians watch Baseball.\n",
      "Indians watch Cricket.\n"
     ]
    }
   ],
   "source": [
    "# using itertools product\n",
    "from itertools import product\n",
    "subjects=[\"Americans\",\"Indians\"]\n",
    "verbs=[\"play\",\"watch\"]\n",
    "objects=[\"Baseball\",\"Cricket\"]\n",
    "p = product(subjects,verbs,objects)\n",
    "for i in p:\n",
    "    print(i[0] + \" \" + i[1] + \" \" + i[2] + \".\")    \n",
    "   "
   ]
  },
  {
   "cell_type": "code",
   "execution_count": 124,
   "metadata": {},
   "outputs": [
    {
     "name": "stdout",
     "output_type": "stream",
     "text": [
      "Americans play Baseball.\n",
      "Americans play Cricket.\n",
      "Americans watch Baseball.\n",
      "Americans watch Cricket.\n",
      "Indians play Baseball.\n",
      "Indians play Cricket.\n",
      "Indians watch Baseball.\n",
      "Indians watch Cricket.\n"
     ]
    }
   ],
   "source": [
    "# using list comprehension\n",
    "subjects=[\"Americans\",\"Indians\"]\n",
    "verbs=[\"play\",\"watch\"]\n",
    "objects=[\"Baseball\",\"Cricket\"]\n",
    "l = [i + \" \" + j + \" \" + k + \".\" for i in subjects for j in verbs for k in objects]\n",
    "for i in l:\n",
    "    print(i)"
   ]
  },
  {
   "cell_type": "markdown",
   "metadata": {},
   "source": [
    "# Task 2 "
   ]
  },
  {
   "cell_type": "markdown",
   "metadata": {},
   "source": [
    "## 1. Write a function so that the columns of the output matrix are powers of the input vector.\n",
    "\n",
    "The order of the powers is determined by the increasing boolean argument. <br>\n",
    "\n",
    "Specifically, when increasing is False, the i-th output column is the input vector raised element-wise to the power\n",
    "of N - i - 1. <br>\n",
    "\n",
    "HINT: Such a matrix with a geometric progression in each row is named for `Alexandre-Theophile Vandermonde`."
   ]
  },
  {
   "cell_type": "code",
   "execution_count": 128,
   "metadata": {},
   "outputs": [
    {
     "name": "stdout",
     "output_type": "stream",
     "text": [
      "Vander matrix with increasing=False , N=4 (None)\n",
      "1\t1\t1\t1\n",
      "8\t4\t2\t1\n",
      "27\t9\t3\t1\n",
      "125\t25\t5\t1\n",
      "Vander matrix with increasing=TRUE , N=4(None)\n",
      "1\t1\t1\t1\n",
      "1\t2\t4\t8\n",
      "1\t3\t9\t27\n",
      "1\t5\t25\t125\n",
      "Vander matrix with increasing=TRUE , N=3\n",
      "1\t1\t1\n",
      "1\t2\t4\n",
      "1\t3\t9\n",
      "1\t5\t25\n",
      "Vander matrix with increasing=False , N=3\n",
      "1\t1\t1\n",
      "4\t2\t1\n",
      "9\t3\t1\n",
      "25\t5\t1\n"
     ]
    }
   ],
   "source": [
    "def printLoL(lstOflst):\n",
    "    for i in lstOflst:\n",
    "        print(*i,sep=\"\\t\")\n",
    "    \n",
    "def GenerateVandermodeMatrix(lst , N=None , increasing=True):\n",
    "    outputMatrix  = []\n",
    "    if N is None:\n",
    "        N = len(lst)\n",
    "    for i in lst:\n",
    "        if increasing is False:\n",
    "            om = [i**(N-j) for j in range(1,N+1)]\n",
    "        else :\n",
    "            om = [i**j for j in range(0,N)]\n",
    "        outputMatrix.append(om)\n",
    "    return outputMatrix\n",
    "\n",
    "l = [1, 2, 3, 5]\n",
    "print(\"Vander matrix with increasing=False , N=4 (None)\")\n",
    "outputMatrix = GenerateVandermodeMatrix(l, increasing=False)\n",
    "printLoL(outputMatrix)\n",
    "\n",
    "print(\"Vander matrix with increasing=TRUE , N=4(None)\")\n",
    "outputMatrix = GenerateVandermodeMatrix(l, increasing=True)\n",
    "printLoL(outputMatrix)\n",
    "\n",
    "\n",
    "print(\"Vander matrix with increasing=TRUE , N=3\")\n",
    "N=3\n",
    "outputMatrix = GenerateVandermodeMatrix(l, N,increasing=True)\n",
    "printLoL(outputMatrix)\n",
    "\n",
    "print(\"Vander matrix with increasing=False , N=3\")\n",
    "N=3\n",
    "outputMatrix = GenerateVandermodeMatrix(l, N,increasing=False)\n",
    "printLoL(outputMatrix)   \n"
   ]
  }
 ],
 "metadata": {
  "kernelspec": {
   "display_name": "Python 3",
   "language": "python",
   "name": "python3"
  },
  "language_info": {
   "codemirror_mode": {
    "name": "ipython",
    "version": 3
   },
   "file_extension": ".py",
   "mimetype": "text/x-python",
   "name": "python",
   "nbconvert_exporter": "python",
   "pygments_lexer": "ipython3",
   "version": "3.7.4"
  },
  "toc": {
   "base_numbering": 1,
   "nav_menu": {},
   "number_sections": false,
   "sideBar": true,
   "skip_h1_title": false,
   "title_cell": "Table of Contents",
   "title_sidebar": "Contents",
   "toc_cell": false,
   "toc_position": {},
   "toc_section_display": true,
   "toc_window_display": true
  },
  "varInspector": {
   "cols": {
    "lenName": 16,
    "lenType": 16,
    "lenVar": 40
   },
   "kernels_config": {
    "python": {
     "delete_cmd_postfix": "",
     "delete_cmd_prefix": "del ",
     "library": "var_list.py",
     "varRefreshCmd": "print(var_dic_list())"
    },
    "r": {
     "delete_cmd_postfix": ") ",
     "delete_cmd_prefix": "rm(",
     "library": "var_list.r",
     "varRefreshCmd": "cat(var_dic_list()) "
    }
   },
   "types_to_exclude": [
    "module",
    "function",
    "builtin_function_or_method",
    "instance",
    "_Feature"
   ],
   "window_display": false
  }
 },
 "nbformat": 4,
 "nbformat_minor": 4
}
